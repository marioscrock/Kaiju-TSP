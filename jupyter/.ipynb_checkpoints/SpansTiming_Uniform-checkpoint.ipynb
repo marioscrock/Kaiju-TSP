{
 "cells": [
  {
   "cell_type": "markdown",
   "metadata": {},
   "source": [
    "### Jaeger vs Kaiju Spans Timing ###\n",
    "\n",
    "##### Uniform distribution #####\n",
    "* 2000 _requests_\n",
    "* _seed_ = \"2000\"\n",
    "* _a_=0 _b_=500\n",
    "* _Time Interval_ = 500"
   ]
  },
  {
   "cell_type": "markdown",
   "metadata": {},
   "source": [
    "<p align=\"center\"><img src=\"img/chronograf_5_1.png\" alt=\"Chronograf\"></p>\n",
    "<p align=\"center\"><img src=\"img/chronograf_5_2.png\" alt=\"Chronograf\"></p>"
   ]
  },
  {
   "cell_type": "code",
   "execution_count": null,
   "metadata": {},
   "outputs": [],
   "source": [
    "import matplotlib.pyplot as pyplot\n",
    "import numpy as np"
   ]
  },
  {
   "cell_type": "code",
   "execution_count": 2,
   "metadata": {},
   "outputs": [],
   "source": [
    "timing  = np.genfromtxt('csv/kaijuTiming_5.csv', delimiter=', ', dtype='str')\n",
    "traceId = np.array(timing[1:,0])\n",
    "spanId = np.array(timing[1:,1])\n",
    "startTime = np.array(timing[1:,2]).astype(np.int64)\n",
    "duration = np.array(timing[1:,3]).astype(np.int64)\n",
    "eventTime = np.array(timing[1:,4]).astype(np.int64)\n",
    "eventTime_f = np.add(eventTime, 7200)\n",
    "t_end_span = np.add(startTime, duration)\n",
    "t_diff = np.subtract(eventTime_f, np.divide(t_end_span, 1000))\n",
    "\n",
    "j_timing  = np.genfromtxt('csv/jaegerTiming_5.csv', delimiter=', ', dtype='str')\n",
    "j_traceId = np.array(j_timing[1:,0])\n",
    "j_spanId = np.array(j_timing[1:,1])\n",
    "j_startTime = np.array(j_timing[1:,2]).astype(np.int64)\n",
    "j_duration = np.array(j_timing[1:,3]).astype(np.int64)\n",
    "j_eventTime = np.array(j_timing[1:,4]).astype(np.int64)\n",
    "j_eventTime_f = np.add(j_eventTime, 7200)\n",
    "j_t_end_span = np.add(j_startTime, j_duration)\n",
    "j_t_diff = np.subtract(j_eventTime_f, np.divide(j_t_end_span, 1000))"
   ]
  },
  {
   "cell_type": "code",
   "execution_count": 3,
   "metadata": {},
   "outputs": [
    {
     "name": "stdout",
     "output_type": "stream",
     "text": [
      "Kaiju Traces: 2000\n",
      "Jaeger Traces: 2000\n",
      "Traces in Kaiju and not in Jaeger []\n",
      "Traces in Jaeger and not in Kaiju []\n",
      "\n",
      "Kaiju Spans: 236197\n",
      "Jaeger Spans: 237210\n",
      "Spans (traceId spanId) in Kaiju and not in Jaeger ['1334227dfade9103 52b205f98ff8422f']\n",
      "Spans (traceId spanId) in Jaeger and not in Kaiju ['24ffa32950d37b83 532149ebc2ccf658', '27de259c9a387160 4e7cb4511a206649', '3cfdcd38801bf84f 3cfdcd38801bf84f', '51fcf7d0971218ad 76ffb446a1544b7c', '60507b6cb592154b 3f8e33fd4dca654d', '60ff8664f2cbbfd3 69c7236c2c75033f', '60ff8664f2cbbfd3 6bf79c994eda885d', 'd1bc0b63ed24066 73417ee6e64aba37']\n"
     ]
    }
   ],
   "source": [
    "print(\"Kaiju Traces: \" + str(np.unique(traceId).shape[0]))\n",
    "print(\"Jaeger Traces: \" + str(np.unique(j_traceId).shape[0]))\n",
    "print(\"Traces in Kaiju and not in Jaeger \" + str((np.setdiff1d(traceId, j_traceId).tolist())))\n",
    "print(\"Traces in Jaeger and not in Kaiju \" + str((np.setdiff1d(j_traceId, traceId).tolist())))\n",
    "print(\"\")\n",
    "print(\"Kaiju Spans: \" + str(np.unique(timing).shape[0]))\n",
    "print(\"Jaeger Spans: \" + str(np.unique(j_timing).shape[0]))\n",
    "concat_traces_span = np.core.defchararray.add(np.core.defchararray.add(traceId, \" \"), spanId)\n",
    "j_concat_traces_span = np.core.defchararray.add(np.core.defchararray.add(j_traceId, \" \"), j_spanId)\n",
    "print(\"Spans (traceId spanId) in Kaiju and not in Jaeger \" + str((np.setdiff1d(concat_traces_span, j_concat_traces_span).tolist())))\n",
    "print(\"Spans (traceId spanId) in Jaeger and not in Kaiju \" + str((np.setdiff1d(j_concat_traces_span, concat_traces_span).tolist())))"
   ]
  },
  {
   "cell_type": "raw",
   "metadata": {},
   "source": [
    "Spans difference can be related to the time window (1 min) in Kaiju and lookback time (1 min) in Jaeger queries"
   ]
  },
  {
   "cell_type": "code",
   "execution_count": 4,
   "metadata": {},
   "outputs": [
    {
     "data": {
      "image/png": "[encoded data removed]",
      "text/plain": [
       "<matplotlib.figure.Figure at 0x7f4b291f1fd0>"
      ]
     },
     "metadata": {},
     "output_type": "display_data"
    },
    {
     "data": {
      "image/png": "[encoded data removed]",
      "text/plain": [
       "<matplotlib.figure.Figure at 0x7f4b57822cf8>"
      ]
     },
     "metadata": {},
     "output_type": "display_data"
    }
   ],
   "source": [
    "pyplot.subplot(2, 1, 1)\n",
    "pyplot.hist(j_t_diff, 50, color='r')\n",
    "pyplot.xlabel('Latency to Jaeger (ms)')\n",
    "pyplot.ylabel('Number of spans')\n",
    "pyplot.show()\n",
    "\n",
    "pyplot.subplot(2, 1, 2)\n",
    "pyplot.hist(t_diff, 50, color='b')\n",
    "pyplot.xlabel('Latency to Kaiju (ms)')\n",
    "pyplot.ylabel('Number of spans')\n",
    "pyplot.show()"
   ]
  },
  {
   "cell_type": "code",
   "execution_count": 5,
   "metadata": {},
   "outputs": [
    {
     "name": "stdout",
     "output_type": "stream",
     "text": [
      "Max latency: Kaiju 1.53193349616e+15ms Jaeger 1.53193350353e+15ms\n",
      "Min latency: Kaiju 1.53193299882e+15ms Jaeger 1.53193299866e+15ms\n"
     ]
    },
    {
     "data": {
      "image/png": "[encoded data removed]",
      "text/plain": [
       "<matplotlib.figure.Figure at 0x7f4b244c1278>"
      ]
     },
     "metadata": {},
     "output_type": "display_data"
    }
   ],
   "source": [
    "max_lat = np.amax(j_t_diff)\n",
    "j_max_lat = np.amax(t_diff)\n",
    "min_lat = np.amin(j_t_diff)\n",
    "j_min_lat = np.amin(t_diff)\n",
    "bins = np.linspace(min(min_lat, j_min_lat), max(max_lat, j_max_lat), 10)\n",
    "print(\"Max latency: Kaiju \" + str(max_lat) + \"ms Jaeger \" + str(j_max_lat) + \"ms\")\n",
    "print(\"Min latency: Kaiju \" + str(min_lat) + \"ms Jaeger \" + str(j_min_lat) + \"ms\")\n",
    "\n",
    "pyplot.hist(j_t_diff, bins, alpha=0.5, label='Jaeger', color='r')\n",
    "pyplot.hist(t_diff, bins, alpha=0.5, label='Kaiju', color='b')\n",
    "pyplot.legend(loc='upper right')\n",
    "pyplot.show()"
   ]
  },
  {
   "cell_type": "code",
   "execution_count": 6,
   "metadata": {},
   "outputs": [],
   "source": [
    "traceIdinds = traceId.argsort()\n",
    "sortedByTrace_traceId = traceId[traceIdinds[::-1]]\n",
    "sortedByTrace_eventTime = eventTime[traceIdinds[::-1]]\n",
    "\n",
    "traces = np.unique(sortedByTrace_traceId).tolist()\n",
    "trace_firstSpan = np.zeros(len(traces), dtype='int64')\n",
    "trace_lastSpan = np.zeros(len(traces), dtype='int64')\n",
    "numSpansPerTrace = np.zeros(len(traces), dtype='int64')\n",
    "\n",
    "t = 0\n",
    "for trace in traces:\n",
    "    i, = np.where(sortedByTrace_traceId == trace)\n",
    "    sortedByTrace_eventTime_i = sortedByTrace_eventTime[i]\n",
    "    sorted_sortedByTrace_eventTime_i = np.sort(sortedByTrace_eventTime_i)\n",
    "    trace_firstSpan[t] = sorted_sortedByTrace_eventTime_i[0]\n",
    "    trace_lastSpan[t] = sorted_sortedByTrace_eventTime_i[-1]\n",
    "    numSpansPerTrace[t] = len(sortedByTrace_eventTime_i)\n",
    "    t +=1\n",
    "    \n",
    "j_traceIdinds = j_traceId.argsort()\n",
    "j_sortedByTrace_traceId = j_traceId[j_traceIdinds[::-1]]\n",
    "j_sortedByTrace_eventTime = j_eventTime[j_traceIdinds[::-1]]\n",
    "\n",
    "j_traces = np.unique(j_sortedByTrace_traceId).tolist()\n",
    "j_trace_firstSpan = np.zeros(len(j_traces), dtype='int64')\n",
    "j_trace_lastSpan = np.zeros(len(j_traces), dtype='int64')\n",
    "j_numSpansPerTrace = np.zeros(len(j_traces), dtype='int64')\n",
    "\n",
    "j_t = 0\n",
    "for trace in j_traces:\n",
    "    i, = np.where(j_sortedByTrace_traceId == trace)\n",
    "    j_sortedByTrace_eventTime_i = j_sortedByTrace_eventTime[i]\n",
    "    j_sorted_sortedByTrace_eventTime_i = np.sort(j_sortedByTrace_eventTime_i)\n",
    "    j_trace_firstSpan[j_t] = j_sorted_sortedByTrace_eventTime_i[0]\n",
    "    j_trace_lastSpan[j_t] = j_sorted_sortedByTrace_eventTime_i[-1]\n",
    "    j_numSpansPerTrace[j_t] = len(j_sortedByTrace_eventTime_i)\n",
    "    j_t +=1"
   ]
  },
  {
   "cell_type": "code",
   "execution_count": 7,
   "metadata": {},
   "outputs": [
    {
     "data": {
      "image/png": "[encoded data removed]",
      "text/plain": [
       "<matplotlib.figure.Figure at 0x7f4b24466908>"
      ]
     },
     "metadata": {},
     "output_type": "display_data"
    },
    {
     "data": {
      "image/png": "[encoded data removed]",
      "text/plain": [
       "<matplotlib.figure.Figure at 0x7f4b274eefd0>"
      ]
     },
     "metadata": {},
     "output_type": "display_data"
    }
   ],
   "source": [
    "pyplot.subplot(2, 1, 1)\n",
    "j_t_diff_per_trace = np.subtract(j_trace_lastSpan, j_trace_firstSpan)\n",
    "pyplot.hist(j_t_diff_per_trace, 50, color='r')\n",
    "pyplot.xlabel('Jaeger Time btw 1st and last span per trace (ms)')\n",
    "pyplot.ylabel('Number of traces')\n",
    "pyplot.show()\n",
    "\n",
    "pyplot.subplot(2, 1, 2)\n",
    "t_diff_per_trace = np.subtract(trace_lastSpan, trace_firstSpan)\n",
    "pyplot.hist(t_diff_per_trace, 50, color='b')\n",
    "pyplot.xlabel('Kaiju Time btw 1st and last span per trace (ms)')\n",
    "pyplot.ylabel('Number of traces')\n",
    "pyplot.show()\n",
    "\n",
    "#Jaeger all spans of a trace almost together but higher latencies, notice also exceptions (high timestamps)"
   ]
  },
  {
   "cell_type": "code",
   "execution_count": 8,
   "metadata": {},
   "outputs": [
    {
     "name": "stdout",
     "output_type": "stream",
     "text": [
      "Max diff 1st-last: Kaiju 0ms Jaeger 2687800ms\n",
      "Min diff 1st-last: Kaiju 0ms Jaeger 0ms\n"
     ]
    },
    {
     "data": {
      "image/png": "[encoded data removed]",
      "text/plain": [
       "<matplotlib.figure.Figure at 0x7f4b2732ef60>"
      ]
     },
     "metadata": {},
     "output_type": "display_data"
    }
   ],
   "source": [
    "max_lat = np.amax(t_diff_per_trace)\n",
    "j_max_lat = np.amax(j_t_diff_per_trace)\n",
    "min_lat = np.amin(t_diff_per_trace)\n",
    "j_min_lat = np.amin(j_t_diff_per_trace)\n",
    "bins = np.linspace(min(min_lat, j_min_lat), max(max_lat, j_max_lat), 10)\n",
    "print(\"Max diff 1st-last: Kaiju \" + str(max_lat) + \"ms Jaeger \" + str(j_max_lat) + \"ms\")\n",
    "print(\"Min diff 1st-last: Kaiju \" + str(min_lat) + \"ms Jaeger \" + str(j_min_lat) + \"ms\")\n",
    "\n",
    "pyplot.hist(j_t_diff_per_trace, bins, alpha=0.5, label='Jaeger', color='r')\n",
    "pyplot.hist(t_diff_per_trace, bins, alpha=0.5, label='Kaiju', color='b')\n",
    "pyplot.legend(loc='upper right')\n",
    "pyplot.show()"
   ]
  },
  {
   "cell_type": "code",
   "execution_count": 9,
   "metadata": {},
   "outputs": [
    {
     "data": {
      "image/png": "[encoded data removed]",
      "text/plain": [
       "<matplotlib.figure.Figure at 0x7f4b24435ba8>"
      ]
     },
     "metadata": {},
     "output_type": "display_data"
    },
    {
     "data": {
      "image/png": "[encoded data removed]",
      "text/plain": [
       "<matplotlib.figure.Figure at 0x7f4b27279908>"
      ]
     },
     "metadata": {},
     "output_type": "display_data"
    }
   ],
   "source": [
    "pyplot.subplot(2, 1, 1)\n",
    "pyplot.hist(j_numSpansPerTrace, 50, color='r')\n",
    "pyplot.xlabel('Jaeger Num spans per traces')\n",
    "pyplot.ylabel('Number of traces')\n",
    "pyplot.show()\n",
    "\n",
    "pyplot.subplot(2, 1, 2)\n",
    "pyplot.hist(numSpansPerTrace, 50, color='b')\n",
    "pyplot.xlabel('Kaiju Num spans per traces')\n",
    "pyplot.ylabel('Number of traces')\n",
    "pyplot.show()"
   ]
  },
  {
   "cell_type": "code",
   "execution_count": null,
   "metadata": {},
   "outputs": [],
   "source": []
  }
 ],
 "metadata": {
  "kernelspec": {
   "display_name": "Python 3",
   "language": "python",
   "name": "python3"
  },
  "language_info": {
   "codemirror_mode": {
    "name": "ipython",
    "version": 3
   },
   "file_extension": ".py",
   "mimetype": "text/x-python",
   "name": "python",
   "nbconvert_exporter": "python",
   "pygments_lexer": "ipython3",
   "version": "3.6.3"
  }
 },
 "nbformat": 4,
 "nbformat_minor": 2
}
