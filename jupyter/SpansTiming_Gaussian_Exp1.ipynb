{
 "cells": [
  {
   "cell_type": "markdown",
   "metadata": {},
   "source": [
    "### Jaeger vs Kaiju Spans Timing ###\n",
    "\n",
    "##### Gaussian distribution with 2 hotrod#####\n",
    "*  5000 _requests_\n",
    "* _seed_ = \"EXP\"\n",
    "* _m_=2 _var_=2\n",
    "* _Time Interval_ = 2000"
   ]
  },
  {
   "cell_type": "code",
   "execution_count": 1,
   "metadata": {},
   "outputs": [],
   "source": [
    "import matplotlib.pyplot as pyplot\n",
    "import numpy as np"
   ]
  },
  {
   "cell_type": "code",
   "execution_count": 16,
   "metadata": {},
   "outputs": [],
   "source": [
    "timings = [np.genfromtxt('api_csv/bigLoad_u_5000_jaegerLookBack120/1sec/kaijuTiming_1.csv', delimiter=', ', dtype='str'),\n",
    "         np.genfromtxt('api_csv/bigLoad_u_5000_jaegerLookBack120/1sec/kaijuTiming_2.csv', delimiter=', ', dtype='str'),\n",
    "         np.genfromtxt('api_csv/bigLoad_u_5000_jaegerLookBack120/1sec/kaijuTiming_3.csv', delimiter=', ', dtype='str')]\n",
    "traceId = []\n",
    "spanId = []\n",
    "startTime = []\n",
    "duration = []\n",
    "eventTime = []\n",
    "t_end_span =[]\n",
    "t_diff = []\n",
    "\n",
    "for timing in timings:\n",
    "    traceId.append(np.array(timing[0:,0]))\n",
    "    spanId.append(np.array(timing[0:,1]))\n",
    "    startTime.append(np.array(timing[0:,2]).astype(np.int64))\n",
    "    duration.append(np.array(timing[0:,3]).astype(np.int64))\n",
    "    eventTime.append(np.array(timing[0:,4]).astype(np.int64))\n",
    "    t_end_span.append(np.add(startTime[-1], duration[-1]))\n",
    "    t_diff.append(np.subtract(eventTime[-1], t_end_span[-1]))\n",
    "\n",
    "j_timings  = [np.genfromtxt('api_csv/bigLoad_u_5000_jaegerLookBack120/1sec/jaegerTiming_1.csv', delimiter=', ', dtype='str'),\n",
    "              np.genfromtxt('api_csv/bigLoad_u_5000_jaegerLookBack120/1sec/jaegerTiming_2.csv', delimiter=', ', dtype='str'),\n",
    "              np.genfromtxt('api_csv/bigLoad_u_5000_jaegerLookBack120/1sec/jaegerTiming_3.csv', delimiter=', ', dtype='str')]\n",
    "j_traceId = []\n",
    "j_spanId = []\n",
    "j_startTime = []\n",
    "j_duration = []\n",
    "j_eventTime = []\n",
    "j_t_end_span =[]\n",
    "j_t_diff = []\n",
    "\n",
    "for j_timing in j_timings:\n",
    "    j_traceId.append(np.array(j_timing[0:,0]))\n",
    "    j_spanId.append(np.array(j_timing[0:,1]))\n",
    "    j_startTime.append(np.array(j_timing[0:,2]).astype(np.int64))\n",
    "    j_duration.append(np.array(j_timing[0:,3]).astype(np.int64))\n",
    "    j_eventTime.append(np.array(j_timing[0:,4]).astype(np.int64))\n",
    "    j_t_end_span.append(np.add(j_startTime[-1], j_duration[-1]))\n",
    "    j_t_diff.append(np.subtract(j_eventTime[-1], j_t_end_span[-1]))"
   ]
  },
  {
   "cell_type": "code",
   "execution_count": 17,
   "metadata": {},
   "outputs": [
    {
     "name": "stdout",
     "output_type": "stream",
     "text": [
      "TEST NUMBER 1\n",
      "Kaiju Traces: 4730\n",
      "Jaeger Traces: 4136\n",
      "\n",
      "Kaiju Spans: 181626\n",
      "Jaeger Spans: 175254\n",
      "*******************************************************************\n",
      "\n",
      "TEST NUMBER 2\n",
      "Kaiju Traces: 4768\n",
      "Jaeger Traces: 4266\n",
      "\n",
      "Kaiju Spans: 192449\n",
      "Jaeger Spans: 185097\n",
      "*******************************************************************\n",
      "\n",
      "TEST NUMBER 3\n",
      "Kaiju Traces: 4777\n",
      "Jaeger Traces: 4258\n",
      "\n",
      "Kaiju Spans: 189596\n",
      "Jaeger Spans: 184450\n",
      "*******************************************************************\n",
      "\n"
     ]
    }
   ],
   "source": [
    "for i in range(3):\n",
    "    print(\"TEST NUMBER \" + str(i + 1))\n",
    "    print(\"Kaiju Traces: \" + str(np.unique(traceId[i]).shape[0]))\n",
    "    print(\"Jaeger Traces: \" + str(np.unique(j_traceId[i]).shape[0]))\n",
    "    # print(\"Traces in Kaiju and not in Jaeger \" + str((np.setdiff1d(traceId[i], j_traceId[i]).tolist())))\n",
    "    # print(\"Traces in Jaeger and not in Kaiju \" + str((np.setdiff1d(j_traceId[i], traceId[i]).tolist())))\n",
    "    print(\"\")\n",
    "    concat_traces_span = np.core.defchararray.add(np.core.defchararray.add(traceId[i], \" \"), spanId[i])\n",
    "    j_concat_traces_span = np.core.defchararray.add(np.core.defchararray.add(j_traceId[i], \" \"), j_spanId[i])\n",
    "    print(\"Kaiju Spans: \" + str(np.unique(concat_traces_span).shape[0]))\n",
    "    print(\"Jaeger Spans: \" + str(np.unique(j_concat_traces_span).shape[0]))\n",
    "    # print(\"Spans (traceId spanId) in Kaiju and not in Jaeger \" + str(len(np.setdiff1d(concat_traces_span, j_concat_traces_span).tolist())))\n",
    "    # print(\"Spans (traceId spanId) in Jaeger and not in Kaiju \" + str(len(np.setdiff1d(j_concat_traces_span, concat_traces_span).tolist())))\n",
    "    print(\"*******************************************************************\\n\")"
   ]
  },
  {
   "cell_type": "markdown",
   "metadata": {},
   "source": [
    "#### Queries to InfluxDB\n",
    "\n",
    "```SELECT max(counter) FROM \"kaiju\".\"autogen\".\"hotrod_jaeger_agent:tc_reporter:jaeger:spans_submitted\" GROUP BY \"instance\" ```\n",
    "\n",
    "```SELECT max(\"counter\") FROM \"kaiju\".\"autogen\".\"jaeger_collector_spans_received\"```\n",
    "\n",
    "```SELECT max(\"counter\") FROM \"kaiju\".\"autogen\".\"jaeger_collector_traces_received\"```\n"
   ]
  },
  {
   "cell_type": "code",
   "execution_count": 18,
   "metadata": {},
   "outputs": [
    {
     "data": {
      "image/png": "[encoded data removed]",
      "text/plain": [
       "<matplotlib.figure.Figure at 0x7f495346dac8>"
      ]
     },
     "metadata": {},
     "output_type": "display_data"
    },
    {
     "data": {
      "image/png": "[encoded data removed]",
      "text/plain": [
       "<matplotlib.figure.Figure at 0x7f49508ea9e8>"
      ]
     },
     "metadata": {},
     "output_type": "display_data"
    }
   ],
   "source": [
    "pyplot.subplot(2, 1, 1)\n",
    "for i in range(3):\n",
    "    a = 0.5 + float(\"0.\" + str(i))*2\n",
    "    l = \"Jaeger \" + str(i)\n",
    "    pyplot.hist(j_t_diff[i], 50, alpha=a, color='r', label=l)\n",
    "pyplot.xlabel('Latency to Jaeger (ms)')\n",
    "pyplot.ylabel('Number of spans')\n",
    "pyplot.show()\n",
    "\n",
    "pyplot.subplot(2, 1, 2)\n",
    "for i in range(3):\n",
    "    a = 0.5 + float(\"0.\" + str(i))\n",
    "    l = \"Kaiju \" + str(i)\n",
    "    pyplot.hist(t_diff[i], 50, alpha=a, color='b', label = l)\n",
    "pyplot.xlabel('Latency to Kaiju (ms)')\n",
    "pyplot.ylabel('Number of spans')\n",
    "pyplot.show()"
   ]
  },
  {
   "cell_type": "code",
   "execution_count": 19,
   "metadata": {},
   "outputs": [
    {
     "name": "stdout",
     "output_type": "stream",
     "text": [
      "TEST NUMBER 1\n",
      "Min latency: Kaiju 2127160ms Jaeger 53938ms\n",
      "Max latency: Kaiju 77051752ms Jaeger 2007662ms\n",
      "*******************************************************************\n",
      "\n",
      "TEST NUMBER 2\n",
      "Min latency: Kaiju 186709ms Jaeger 60817ms\n",
      "Max latency: Kaiju 72185384ms Jaeger 2755224ms\n",
      "*******************************************************************\n",
      "\n",
      "TEST NUMBER 3\n",
      "Min latency: Kaiju 1174331ms Jaeger 25261ms\n",
      "Max latency: Kaiju 74302613ms Jaeger 2497497ms\n",
      "*******************************************************************\n",
      "\n"
     ]
    },
    {
     "data": {
      "image/png": "[encoded data removed]",
      "text/plain": [
       "<matplotlib.figure.Figure at 0x7f4950760860>"
      ]
     },
     "metadata": {},
     "output_type": "display_data"
    }
   ],
   "source": [
    "for i in range(3):\n",
    "    max_lat = np.amax(j_t_diff[i])\n",
    "    j_max_lat = np.amax(t_diff[i])\n",
    "    min_lat = np.amin(j_t_diff[i])\n",
    "    j_min_lat = np.amin(t_diff[i])\n",
    "    bins = np.linspace(min(min_lat, j_min_lat), max(max_lat, j_max_lat), 10)\n",
    "    print(\"TEST NUMBER \" + str(i + 1))\n",
    "    print(\"Min latency: Kaiju \" + str(min_lat) + \"ms Jaeger \" + str(j_min_lat) + \"ms\")\n",
    "    print(\"Max latency: Kaiju \" + str(max_lat) + \"ms Jaeger \" + str(j_max_lat) + \"ms\")  \n",
    "    print(\"*******************************************************************\\n\")\n",
    "\n",
    "    pyplot.hist(j_t_diff[i], 50, alpha=0.5, color='r')\n",
    "    pyplot.hist(t_diff[i], 50, alpha=0.5, color='b')\n",
    "\n",
    "pyplot.xlabel('Latency to Kaiju (ms)')\n",
    "pyplot.ylabel('Number of spans')\n",
    "# pyplot.legend(loc='upper right')\n",
    "pyplot.show()"
   ]
  },
  {
   "cell_type": "code",
   "execution_count": 20,
   "metadata": {},
   "outputs": [],
   "source": [
    "ltrace_firstSpan = []\n",
    "ltrace_lastSpan = []\n",
    "lnumSpansPerTrace = []\n",
    "lj_trace_firstSpan = []\n",
    "lj_trace_lastSpan = []\n",
    "lj_numSpansPerTrace = []\n",
    "\n",
    "for j in range(3):\n",
    "    traceIdinds = traceId[j].argsort()\n",
    "    sortedByTrace_traceId = traceId[j][traceIdinds[::-1]]\n",
    "    sortedByTrace_eventTime = eventTime[j][traceIdinds[::-1]]\n",
    "\n",
    "    traces = np.unique(sortedByTrace_traceId).tolist()\n",
    "    trace_firstSpan = np.zeros(len(traces), dtype='int64')\n",
    "    trace_lastSpan = np.zeros(len(traces), dtype='int64')\n",
    "    numSpansPerTrace = np.zeros(len(traces), dtype='int64')\n",
    "\n",
    "    t = 0\n",
    "    for trace in traces:\n",
    "        i, = np.where(sortedByTrace_traceId == trace)\n",
    "        sortedByTrace_eventTime_i = sortedByTrace_eventTime[i]\n",
    "        sorted_sortedByTrace_eventTime_i = np.sort(sortedByTrace_eventTime_i)\n",
    "        trace_firstSpan[t] = sorted_sortedByTrace_eventTime_i[0]\n",
    "        trace_lastSpan[t] = sorted_sortedByTrace_eventTime_i[-1]\n",
    "        numSpansPerTrace[t] = len(sortedByTrace_eventTime_i)\n",
    "        t +=1\n",
    "        \n",
    "    ltrace_firstSpan.append(trace_firstSpan)\n",
    "    ltrace_lastSpan.append(trace_lastSpan)\n",
    "    lnumSpansPerTrace.append(numSpansPerTrace)\n",
    "    \n",
    "    # JAEGER\n",
    "    \n",
    "    j_traceIdinds = j_traceId[j].argsort()\n",
    "    j_sortedByTrace_traceId = j_traceId[j][j_traceIdinds[::-1]]\n",
    "    j_sortedByTrace_eventTime = j_eventTime[j][j_traceIdinds[::-1]]\n",
    "\n",
    "    j_traces = np.unique(j_sortedByTrace_traceId).tolist()\n",
    "    j_trace_firstSpan = np.zeros(len(j_traces), dtype='int64')\n",
    "    j_trace_lastSpan = np.zeros(len(j_traces), dtype='int64')\n",
    "    j_numSpansPerTrace = np.zeros(len(j_traces), dtype='int64')\n",
    "\n",
    "    j_t = 0\n",
    "    for trace in j_traces:\n",
    "        i, = np.where(j_sortedByTrace_traceId == trace)\n",
    "        j_sortedByTrace_eventTime_i = j_sortedByTrace_eventTime[i]\n",
    "        j_sorted_sortedByTrace_eventTime_i = np.sort(j_sortedByTrace_eventTime_i)\n",
    "        j_trace_firstSpan[j_t] = j_sorted_sortedByTrace_eventTime_i[0]\n",
    "        j_trace_lastSpan[j_t] = j_sorted_sortedByTrace_eventTime_i[-1]\n",
    "        j_numSpansPerTrace[j_t] = len(j_sortedByTrace_eventTime_i)\n",
    "        j_t +=1\n",
    "        \n",
    "    lj_trace_firstSpan.append(j_trace_firstSpan)\n",
    "    lj_trace_lastSpan.append(j_trace_lastSpan)\n",
    "    lj_numSpansPerTrace.append(j_numSpansPerTrace)"
   ]
  },
  {
   "cell_type": "code",
   "execution_count": 21,
   "metadata": {},
   "outputs": [
    {
     "data": {
      "image/png": "[encoded data removed]",
      "text/plain": [
       "<matplotlib.figure.Figure at 0x7f495084f748>"
      ]
     },
     "metadata": {},
     "output_type": "display_data"
    },
    {
     "data": {
      "image/png": "[encoded data removed]",
      "text/plain": [
       "<matplotlib.figure.Figure at 0x7f49507e7908>"
      ]
     },
     "metadata": {},
     "output_type": "display_data"
    }
   ],
   "source": [
    "j_t_diff_per_trace = []\n",
    "\n",
    "pyplot.subplot(2, 1, 1)\n",
    "for i in range(3):\n",
    "    j_t_diff_per_trace.append(np.subtract(lj_trace_lastSpan[i], lj_trace_firstSpan[i]))\n",
    "    a = 0.5 + float(\"0.\" + str(i))*2\n",
    "    l = \"Jaeger \" + str(i)\n",
    "    pyplot.hist(j_t_diff_per_trace[-1], 50, alpha=a, color='r', label=l)\n",
    "pyplot.xlabel('Jaeger Time btw 1st and last span per trace (ms)')\n",
    "pyplot.ylabel('Number of traces')\n",
    "pyplot.show()\n",
    "\n",
    "t_diff_per_trace = []\n",
    "\n",
    "pyplot.subplot(2, 1, 2)\n",
    "for i in range(3):\n",
    "    t_diff_per_trace.append(np.subtract(ltrace_lastSpan[i], ltrace_firstSpan[i]))\n",
    "    a = 0.5 + float(\"0.\" + str(i))*2\n",
    "    l = \"Kaiju \" + str(i)\n",
    "    pyplot.hist(t_diff_per_trace[-1], 50, alpha=a, color='b', label=l)\n",
    "pyplot.xlabel('Kaiju Time btw 1st and last span per trace (ms)')\n",
    "pyplot.ylabel('Number of traces')\n",
    "pyplot.show()\n",
    "\n",
    "#Jaeger all spans of a trace almost together but higher latencies, notice also exceptions (high timestamps)"
   ]
  },
  {
   "cell_type": "code",
   "execution_count": 22,
   "metadata": {},
   "outputs": [
    {
     "name": "stdout",
     "output_type": "stream",
     "text": [
      "TEST NUMBER 1\n",
      "Max diff 1st-last: Kaiju 1654061ms Jaeger 4713780ms\n",
      "Min diff 1st-last: Kaiju 0ms Jaeger 0ms\n",
      "*******************************************************************\n",
      "\n",
      "TEST NUMBER 2\n",
      "Max diff 1st-last: Kaiju 2028248ms Jaeger 5723970ms\n",
      "Min diff 1st-last: Kaiju 0ms Jaeger 0ms\n",
      "*******************************************************************\n",
      "\n",
      "TEST NUMBER 3\n",
      "Max diff 1st-last: Kaiju 1697538ms Jaeger 6287718ms\n",
      "Min diff 1st-last: Kaiju 0ms Jaeger 0ms\n",
      "*******************************************************************\n",
      "\n"
     ]
    },
    {
     "data": {
      "image/png": "[encoded data removed]",
      "text/plain": [
       "<matplotlib.figure.Figure at 0x7f494d8730f0>"
      ]
     },
     "metadata": {},
     "output_type": "display_data"
    }
   ],
   "source": [
    "for i in range(3):\n",
    "    max_lat = np.amax(t_diff_per_trace[i])\n",
    "    j_max_lat = np.amax(j_t_diff_per_trace[i])\n",
    "    min_lat = np.amin(t_diff_per_trace[i])\n",
    "    j_min_lat = np.amin(j_t_diff_per_trace[i])\n",
    "    bins = np.linspace(min(min_lat, j_min_lat), max(max_lat, j_max_lat), 10)\n",
    "    print(\"TEST NUMBER \" + str(i + 1))\n",
    "    print(\"Max diff 1st-last: Kaiju \" + str(max_lat) + \"ms Jaeger \" + str(j_max_lat) + \"ms\")\n",
    "    print(\"Min diff 1st-last: Kaiju \" + str(min_lat) + \"ms Jaeger \" + str(j_min_lat) + \"ms\")\n",
    "    print(\"*******************************************************************\\n\")\n",
    "\n",
    "    pyplot.hist(j_t_diff_per_trace[i], bins, alpha=0.5, label='Jaeger', color='r')\n",
    "    pyplot.hist(t_diff_per_trace[i], bins, alpha=0.5, label='Kaiju', color='b')\n",
    "    \n",
    "pyplot.legend(loc='upper right')\n",
    "pyplot.show()"
   ]
  },
  {
   "cell_type": "code",
   "execution_count": 23,
   "metadata": {},
   "outputs": [
    {
     "data": {
      "image/png": "[encoded data removed]",
      "text/plain": [
       "<matplotlib.figure.Figure at 0x7f4950ee3d30>"
      ]
     },
     "metadata": {},
     "output_type": "display_data"
    },
    {
     "data": {
      "image/png": "[encoded data removed]",
      "text/plain": [
       "<matplotlib.figure.Figure at 0x7f494d0da6d8>"
      ]
     },
     "metadata": {},
     "output_type": "display_data"
    }
   ],
   "source": [
    "pyplot.subplot(2, 1, 1)\n",
    "for i in range(3):\n",
    "    a = 0.5 + float(\"0.\" + str(i))*2\n",
    "    l = \"Jaeger \" + str(i)\n",
    "    pyplot.hist(lj_numSpansPerTrace[i], 50, color='r', alpha=a, label=l)\n",
    "pyplot.xlabel('Jaeger Num spans per traces')\n",
    "pyplot.ylabel('Number of traces')\n",
    "pyplot.show()\n",
    "\n",
    "pyplot.subplot(2, 1, 2)\n",
    "for i in range(3):\n",
    "    a = 0.5 + float(\"0.\" + str(i))*2\n",
    "    l = \"Kaiju \" + str(i)\n",
    "    pyplot.hist(lnumSpansPerTrace[i], 50, color='b', alpha=a, label=l)\n",
    "pyplot.xlabel('Kaiju Num spans per traces')\n",
    "pyplot.ylabel('Number of traces')\n",
    "pyplot.show()"
   ]
  },
  {
   "cell_type": "code",
   "execution_count": null,
   "metadata": {},
   "outputs": [],
   "source": []
  }
 ],
 "metadata": {
  "kernelspec": {
   "display_name": "Python 3",
   "language": "python",
   "name": "python3"
  },
  "language_info": {
   "codemirror_mode": {
    "name": "ipython",
    "version": 3
   },
   "file_extension": ".py",
   "mimetype": "text/x-python",
   "name": "python",
   "nbconvert_exporter": "python",
   "pygments_lexer": "ipython3",
   "version": "3.6.3"
  }
 },
 "nbformat": 4,
 "nbformat_minor": 2
}
